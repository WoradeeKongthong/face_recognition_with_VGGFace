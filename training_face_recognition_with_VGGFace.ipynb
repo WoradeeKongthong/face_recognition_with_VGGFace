{
  "nbformat": 4,
  "nbformat_minor": 0,
  "metadata": {
    "colab": {
      "name": "training_face_recognition_with_VGGFace.ipynb",
      "provenance": [],
      "collapsed_sections": [],
      "authorship_tag": "ABX9TyOxHB3GD5UbPSjbf5npo4Oi",
      "include_colab_link": true
    },
    "kernelspec": {
      "name": "python3",
      "display_name": "Python 3"
    },
    "language_info": {
      "name": "python"
    },
    "accelerator": "GPU"
  },
  "cells": [
    {
      "cell_type": "markdown",
      "metadata": {
        "id": "view-in-github",
        "colab_type": "text"
      },
      "source": [
        "<a href=\"https://colab.research.google.com/github/WoradeeKongthong/face_recognition_with_VGGFace/blob/main/training_face_recognition_with_VGGFace.ipynb\" target=\"_parent\"><img src=\"https://colab.research.google.com/assets/colab-badge.svg\" alt=\"Open In Colab\"/></a>"
      ]
    },
    {
      "cell_type": "markdown",
      "metadata": {
        "id": "FdzM3bZfm-c-"
      },
      "source": [
        "# Installation"
      ]
    },
    {
      "cell_type": "code",
      "metadata": {
        "colab": {
          "base_uri": "https://localhost:8080/"
        },
        "id": "qL_wi6-_W7rb",
        "outputId": "10d92bf2-baac-4390-97d8-dc46b3975a39"
      },
      "source": [
        "! pip install Keras-Applications"
      ],
      "execution_count": 1,
      "outputs": [
        {
          "output_type": "stream",
          "name": "stdout",
          "text": [
            "Collecting Keras-Applications\n",
            "  Downloading Keras_Applications-1.0.8-py3-none-any.whl (50 kB)\n",
            "\u001b[?25l\r\u001b[K     |██████▌                         | 10 kB 39.2 MB/s eta 0:00:01\r\u001b[K     |█████████████                   | 20 kB 43.2 MB/s eta 0:00:01\r\u001b[K     |███████████████████▍            | 30 kB 45.9 MB/s eta 0:00:01\r\u001b[K     |█████████████████████████▉      | 40 kB 27.6 MB/s eta 0:00:01\r\u001b[K     |████████████████████████████████| 50 kB 6.2 MB/s \n",
            "\u001b[?25hRequirement already satisfied: h5py in /usr/local/lib/python3.7/dist-packages (from Keras-Applications) (3.1.0)\n",
            "Requirement already satisfied: numpy>=1.9.1 in /usr/local/lib/python3.7/dist-packages (from Keras-Applications) (1.19.5)\n",
            "Requirement already satisfied: cached-property in /usr/local/lib/python3.7/dist-packages (from h5py->Keras-Applications) (1.5.2)\n",
            "Installing collected packages: Keras-Applications\n",
            "Successfully installed Keras-Applications-1.0.8\n"
          ]
        }
      ]
    },
    {
      "cell_type": "code",
      "metadata": {
        "colab": {
          "base_uri": "https://localhost:8080/"
        },
        "id": "x4AuW4lJVBEk",
        "outputId": "3eecc97a-fc2b-4982-dc6b-4fc21fa898fa"
      },
      "source": [
        "# install VGGFace2 from repository\n",
        "!pip install git+https://github.com/yaledhlab/vggface.git"
      ],
      "execution_count": 2,
      "outputs": [
        {
          "output_type": "stream",
          "name": "stdout",
          "text": [
            "Collecting git+https://github.com/yaledhlab/vggface.git\n",
            "  Cloning https://github.com/yaledhlab/vggface.git to /tmp/pip-req-build-o7yped2p\n",
            "  Running command git clone -q https://github.com/yaledhlab/vggface.git /tmp/pip-req-build-o7yped2p\n",
            "Requirement already satisfied: numpy>=1.9.1 in /usr/local/lib/python3.7/dist-packages (from keras-vggface==0.6) (1.19.5)\n",
            "Requirement already satisfied: scipy>=0.14 in /usr/local/lib/python3.7/dist-packages (from keras-vggface==0.6) (1.4.1)\n",
            "Requirement already satisfied: h5py in /usr/local/lib/python3.7/dist-packages (from keras-vggface==0.6) (3.1.0)\n",
            "Requirement already satisfied: pillow in /usr/local/lib/python3.7/dist-packages (from keras-vggface==0.6) (7.1.2)\n",
            "Requirement already satisfied: keras in /usr/local/lib/python3.7/dist-packages (from keras-vggface==0.6) (2.6.0)\n",
            "Requirement already satisfied: six>=1.9.0 in /usr/local/lib/python3.7/dist-packages (from keras-vggface==0.6) (1.15.0)\n",
            "Requirement already satisfied: pyyaml in /usr/local/lib/python3.7/dist-packages (from keras-vggface==0.6) (3.13)\n",
            "Requirement already satisfied: cached-property in /usr/local/lib/python3.7/dist-packages (from h5py->keras-vggface==0.6) (1.5.2)\n"
          ]
        }
      ]
    },
    {
      "cell_type": "code",
      "metadata": {
        "id": "EjL9hoC8VOXs"
      },
      "source": [
        "import os\n",
        "from keras.preprocessing import image\n",
        "import numpy as np\n",
        "from sklearn.model_selection import train_test_split\n",
        "from keras_vggface.vggface import VGGFace\n",
        "from keras.layers import Flatten, Dense\n",
        "from keras.models import Model\n",
        "from sklearn.metrics import fbeta_score\n",
        "import matplotlib.pyplot as plt\n",
        "from sklearn.metrics import confusion_matrix, ConfusionMatrixDisplay\n",
        "from keras.callbacks import EarlyStopping, ModelCheckpoint"
      ],
      "execution_count": 5,
      "outputs": []
    },
    {
      "cell_type": "markdown",
      "metadata": {
        "id": "rpnikFs8nHTu"
      },
      "source": [
        "# Get dataset"
      ]
    },
    {
      "cell_type": "code",
      "metadata": {
        "id": "q59y2bVUUsfl"
      },
      "source": [
        "# clone my repository for dataset\n",
        "! git clone https://github.com/WoradeeKongthong/face_recognition_with_VGGFace.git"
      ],
      "execution_count": null,
      "outputs": []
    },
    {
      "cell_type": "code",
      "metadata": {
        "colab": {
          "base_uri": "https://localhost:8080/"
        },
        "id": "PHTNaFqMU2kb",
        "outputId": "b3c87f25-ec2c-40ff-8737-c9170b35d704"
      },
      "source": [
        "%cd face_recognition_with_VGGFace/"
      ],
      "execution_count": 4,
      "outputs": [
        {
          "output_type": "stream",
          "name": "stdout",
          "text": [
            "/content/face_recognition_with_VGGFace\n"
          ]
        }
      ]
    },
    {
      "cell_type": "markdown",
      "metadata": {
        "id": "pJRICwOFnNLy"
      },
      "source": [
        "# Prepare dataset"
      ]
    },
    {
      "cell_type": "code",
      "metadata": {
        "id": "-czN20W6XJyQ"
      },
      "source": [
        "# get class names\n",
        "name_list = os.listdir('data/faces')"
      ],
      "execution_count": 6,
      "outputs": []
    },
    {
      "cell_type": "code",
      "metadata": {
        "id": "LIUEA1PcXNZs"
      },
      "source": [
        "# create dataset (X,y) for training\n",
        "images = []\n",
        "labels = []\n",
        "name_int_map = {idx:name for idx,name in enumerate(name_list)}\n",
        "for i, name in enumerate(name_list):\n",
        "    img_list = os.listdir('data/faces/'+name)\n",
        "    path_list = [os.path.join('data/faces',name,i) for i in img_list]\n",
        "    for imgPath in path_list:\n",
        "        img = image.load_img(imgPath)\n",
        "        img = img.resize((224,224))\n",
        "        img = image.img_to_array(img)\n",
        "        images.append(img)\n",
        "        labels.append(i)\n",
        "images = np.array(images)\n",
        "labels = np.array(labels)"
      ],
      "execution_count": 7,
      "outputs": []
    },
    {
      "cell_type": "code",
      "metadata": {
        "id": "Ugli0aQNXRxe"
      },
      "source": [
        "# create in-memory training and validation sets\n",
        "X_train, X_test, y_train, y_test = train_test_split(images, labels, \n",
        "                                                    test_size=0.2, \n",
        "                                                    random_state=120)"
      ],
      "execution_count": 8,
      "outputs": []
    },
    {
      "cell_type": "markdown",
      "metadata": {
        "id": "I4yrvigundYt"
      },
      "source": [
        "# Create helper  function"
      ]
    },
    {
      "cell_type": "code",
      "metadata": {
        "id": "jnFNxleQXkXu"
      },
      "source": [
        "# create function for plotting\n",
        "def evaluate_model(history, face_recognizer):\n",
        "    # plot training and validation loss\n",
        "    fig, (ax1, ax2) = plt.subplots(1,2, figsize=(15,5))\n",
        "    ax1.plot(history.history['loss'], color='blue', label='train')\n",
        "    ax1.plot(history.history['val_loss'], color='orange', label='val')\n",
        "    ax1.set_title('Loss')\n",
        "    ax1.set_ylim((0,5))\n",
        "    ax1.legend()\n",
        "    \n",
        "    # evaluation on test set\n",
        "    y_pred = face_recognizer.predict(X_test)\n",
        "    y_pred_int = np.argmax(y_pred, axis=1)\n",
        "    fbeta = fbeta_score(y_test, y_pred_int, beta=2, average='micro')\n",
        "    print(f\"\\nf-beta score : {round(fbeta*100,2)}%\\n\")\n",
        "\n",
        "    # plot confusion matrix of model prediction\n",
        "    # fig.add_subplot(122)\n",
        "    conf_mat = confusion_matrix(y_test, y_pred_int)\n",
        "    #fig, ax = plt.subplots(figsize=(8, 8))\n",
        "    dist = ConfusionMatrixDisplay(conf_mat, display_labels=name_int_map.values())\n",
        "    dist.plot(cmap='YlOrBr', ax= ax2)\n",
        "    \n",
        "    plt.show()"
      ],
      "execution_count": 62,
      "outputs": []
    },
    {
      "cell_type": "markdown",
      "metadata": {
        "id": "vSRB_YL-nT9H"
      },
      "source": [
        "# Baseline Model : VGGFace as an integrated feature extractor"
      ]
    },
    {
      "cell_type": "code",
      "metadata": {
        "colab": {
          "base_uri": "https://localhost:8080/",
          "height": 1000
        },
        "id": "P71AsiBdnnH1",
        "outputId": "6daf1f32-1558-460f-b1bf-3a03f6b6b1e2"
      },
      "source": [
        "# create face recognition model with VGGFace as an integrated feature extractor\n",
        "vggface_model = VGGFace(include_top=False, input_shape=(224, 224, 3), model='senet50')\n",
        "# set layers as untrainable\n",
        "for layer in vggface_model.layers:\n",
        "    layer.trainable = False\n",
        "last_layer = vggface_model.get_layer(index=-1).output\n",
        "x = Flatten()(last_layer)\n",
        "output = Dense(4, activation='softmax')(x)\n",
        "face_recognizer = Model(inputs=vggface_model.input, outputs=output)\n",
        "face_recognizer.compile(optimizer='Adam', loss='sparse_categorical_crossentropy')\n",
        "\n",
        "# create early stopping object\n",
        "es = EarlyStopping(monitor='val_loss', mode='min', verbose=1, patience=30)\n",
        "\n",
        "# train the model\n",
        "history = face_recognizer.fit(X_train, y_train, \n",
        "                              batch_size=32, epochs=100, \n",
        "                              validation_split=0.2,\n",
        "                              callbacks=[es])\n",
        "\n",
        "# evaluation\n",
        "evaluate_model(history, face_recognizer)"
      ],
      "execution_count": 66,
      "outputs": [
        {
          "output_type": "stream",
          "name": "stdout",
          "text": [
            "Epoch 1/100\n",
            "14/14 [==============================] - 6s 161ms/step - loss: 1.9902 - val_loss: 0.5029\n",
            "Epoch 2/100\n",
            "14/14 [==============================] - 1s 83ms/step - loss: 0.3224 - val_loss: 0.3798\n",
            "Epoch 3/100\n",
            "14/14 [==============================] - 1s 83ms/step - loss: 0.1645 - val_loss: 0.2386\n",
            "Epoch 4/100\n",
            "14/14 [==============================] - 1s 82ms/step - loss: 0.0838 - val_loss: 0.2320\n",
            "Epoch 5/100\n",
            "14/14 [==============================] - 1s 82ms/step - loss: 0.0429 - val_loss: 0.2577\n",
            "Epoch 6/100\n",
            "14/14 [==============================] - 1s 82ms/step - loss: 0.0270 - val_loss: 0.2221\n",
            "Epoch 7/100\n",
            "14/14 [==============================] - 1s 83ms/step - loss: 0.0174 - val_loss: 0.2352\n",
            "Epoch 8/100\n",
            "14/14 [==============================] - 1s 82ms/step - loss: 0.0202 - val_loss: 0.1765\n",
            "Epoch 9/100\n",
            "14/14 [==============================] - 1s 81ms/step - loss: 0.0195 - val_loss: 0.2361\n",
            "Epoch 10/100\n",
            "14/14 [==============================] - 1s 82ms/step - loss: 0.0113 - val_loss: 0.2015\n",
            "Epoch 11/100\n",
            "14/14 [==============================] - 1s 82ms/step - loss: 0.0097 - val_loss: 0.1999\n",
            "Epoch 12/100\n",
            "14/14 [==============================] - 1s 82ms/step - loss: 0.0058 - val_loss: 0.1890\n",
            "Epoch 13/100\n",
            "14/14 [==============================] - 1s 82ms/step - loss: 0.0083 - val_loss: 0.2245\n",
            "Epoch 14/100\n",
            "14/14 [==============================] - 1s 82ms/step - loss: 0.0095 - val_loss: 0.2151\n",
            "Epoch 15/100\n",
            "14/14 [==============================] - 1s 82ms/step - loss: 0.0044 - val_loss: 0.2102\n",
            "Epoch 16/100\n",
            "14/14 [==============================] - 1s 82ms/step - loss: 0.0052 - val_loss: 0.1886\n",
            "Epoch 17/100\n",
            "14/14 [==============================] - 1s 82ms/step - loss: 0.0035 - val_loss: 0.2116\n",
            "Epoch 18/100\n",
            "14/14 [==============================] - 1s 83ms/step - loss: 0.0034 - val_loss: 0.1903\n",
            "Epoch 19/100\n",
            "14/14 [==============================] - 1s 82ms/step - loss: 0.0036 - val_loss: 0.1903\n",
            "Epoch 20/100\n",
            "14/14 [==============================] - 1s 83ms/step - loss: 0.0037 - val_loss: 0.1991\n",
            "Epoch 21/100\n",
            "14/14 [==============================] - 1s 83ms/step - loss: 0.0028 - val_loss: 0.1928\n",
            "Epoch 22/100\n",
            "14/14 [==============================] - 1s 82ms/step - loss: 0.0025 - val_loss: 0.2019\n",
            "Epoch 23/100\n",
            "14/14 [==============================] - 1s 81ms/step - loss: 0.0023 - val_loss: 0.1951\n",
            "Epoch 24/100\n",
            "14/14 [==============================] - 1s 81ms/step - loss: 0.0023 - val_loss: 0.2009\n",
            "Epoch 25/100\n",
            "14/14 [==============================] - 1s 82ms/step - loss: 0.0022 - val_loss: 0.1967\n",
            "Epoch 26/100\n",
            "14/14 [==============================] - 1s 82ms/step - loss: 0.0020 - val_loss: 0.1985\n",
            "Epoch 27/100\n",
            "14/14 [==============================] - 1s 82ms/step - loss: 0.0019 - val_loss: 0.1930\n",
            "Epoch 28/100\n",
            "14/14 [==============================] - 1s 81ms/step - loss: 0.0019 - val_loss: 0.1983\n",
            "Epoch 29/100\n",
            "14/14 [==============================] - 1s 89ms/step - loss: 0.0018 - val_loss: 0.1954\n",
            "Epoch 30/100\n",
            "14/14 [==============================] - 1s 82ms/step - loss: 0.0017 - val_loss: 0.1997\n",
            "Epoch 31/100\n",
            "14/14 [==============================] - 1s 83ms/step - loss: 0.0016 - val_loss: 0.1993\n",
            "Epoch 32/100\n",
            "14/14 [==============================] - 1s 81ms/step - loss: 0.0016 - val_loss: 0.1965\n",
            "Epoch 33/100\n",
            "14/14 [==============================] - 1s 82ms/step - loss: 0.0015 - val_loss: 0.1981\n",
            "Epoch 34/100\n",
            "14/14 [==============================] - 1s 82ms/step - loss: 0.0015 - val_loss: 0.1962\n",
            "Epoch 35/100\n",
            "14/14 [==============================] - 1s 88ms/step - loss: 0.0014 - val_loss: 0.1977\n",
            "Epoch 36/100\n",
            "14/14 [==============================] - 1s 81ms/step - loss: 0.0014 - val_loss: 0.1979\n",
            "Epoch 37/100\n",
            "14/14 [==============================] - 1s 81ms/step - loss: 0.0013 - val_loss: 0.1992\n",
            "Epoch 38/100\n",
            "14/14 [==============================] - 1s 82ms/step - loss: 0.0013 - val_loss: 0.1969\n",
            "Epoch 00038: early stopping\n",
            "\n",
            "f-beta score : 94.24%\n",
            "\n"
          ]
        },
        {
          "output_type": "display_data",
          "data": {
            "image/png": "[encoded data removed]",
            "text/plain": [
              "<Figure size 1080x360 with 3 Axes>"
            ]
          },
          "metadata": {
            "needs_background": "light"
          }
        }
      ]
    },
    {
      "cell_type": "markdown",
      "metadata": {
        "id": "uLKtmWUln-KS"
      },
      "source": [
        "# Improve model"
      ]
    },
    {
      "cell_type": "markdown",
      "metadata": {
        "id": "v0hiVyNroAV5"
      },
      "source": [
        "## model 1 : Baseline + one more Dense layer"
      ]
    },
    {
      "cell_type": "code",
      "metadata": {
        "colab": {
          "base_uri": "https://localhost:8080/",
          "height": 1000
        },
        "id": "3qOaymV5VgaU",
        "outputId": "570a7374-901d-437f-bdb8-9178f41e8b72"
      },
      "source": [
        "# create face recognition model with VGGFace as an integrated feature extractor\n",
        "vggface_model = VGGFace(include_top=False, input_shape=(224, 224, 3), model='senet50')\n",
        "# set layers as untrainable\n",
        "for layer in vggface_model.layers:\n",
        "    layer.trainable = False\n",
        "last_layer = vggface_model.get_layer(index=-1).output\n",
        "x = Flatten()(last_layer)\n",
        "x = Dense(512, activation='relu')(x)\n",
        "output = Dense(4, activation='softmax')(x)\n",
        "face_recognizer = Model(inputs=vggface_model.input, outputs=output)\n",
        "face_recognizer.compile(optimizer='Adam', loss='sparse_categorical_crossentropy')\n",
        "\n",
        "# create early stopping object\n",
        "es = EarlyStopping(monitor='val_loss', mode='min', verbose=1, patience=30)\n",
        "\n",
        "# train the model\n",
        "history = face_recognizer.fit(X_train, y_train, \n",
        "                              batch_size=32, epochs=300, \n",
        "                              validation_split=0.2,\n",
        "                              callbacks=[es])\n",
        "\n",
        "# evaluation\n",
        "evaluate_model(history, face_recognizer)"
      ],
      "execution_count": 67,
      "outputs": [
        {
          "output_type": "stream",
          "name": "stdout",
          "text": [
            "Epoch 1/300\n",
            "14/14 [==============================] - 6s 164ms/step - loss: 2.1304 - val_loss: 0.7950\n",
            "Epoch 2/300\n",
            "14/14 [==============================] - 1s 83ms/step - loss: 0.4146 - val_loss: 0.4973\n",
            "Epoch 3/300\n",
            "14/14 [==============================] - 1s 83ms/step - loss: 0.1499 - val_loss: 0.7507\n",
            "Epoch 4/300\n",
            "14/14 [==============================] - 1s 81ms/step - loss: 0.0959 - val_loss: 0.4283\n",
            "Epoch 5/300\n",
            "14/14 [==============================] - 1s 82ms/step - loss: 0.0631 - val_loss: 0.6572\n",
            "Epoch 6/300\n",
            "14/14 [==============================] - 1s 82ms/step - loss: 0.0063 - val_loss: 0.4462\n",
            "Epoch 7/300\n",
            "14/14 [==============================] - 1s 82ms/step - loss: 0.0254 - val_loss: 0.4009\n",
            "Epoch 8/300\n",
            "14/14 [==============================] - 1s 83ms/step - loss: 0.0238 - val_loss: 0.5803\n",
            "Epoch 9/300\n",
            "14/14 [==============================] - 1s 81ms/step - loss: 0.0252 - val_loss: 0.3789\n",
            "Epoch 10/300\n",
            "14/14 [==============================] - 1s 82ms/step - loss: 0.0282 - val_loss: 0.4357\n",
            "Epoch 11/300\n",
            "14/14 [==============================] - 1s 82ms/step - loss: 0.0014 - val_loss: 0.5828\n",
            "Epoch 12/300\n",
            "14/14 [==============================] - 1s 82ms/step - loss: 3.9087e-04 - val_loss: 0.5311\n",
            "Epoch 13/300\n",
            "14/14 [==============================] - 1s 82ms/step - loss: 6.4299e-05 - val_loss: 0.4826\n",
            "Epoch 14/300\n",
            "14/14 [==============================] - 1s 81ms/step - loss: 1.8856e-05 - val_loss: 0.4728\n",
            "Epoch 15/300\n",
            "14/14 [==============================] - 1s 81ms/step - loss: 1.4340e-05 - val_loss: 0.4697\n",
            "Epoch 16/300\n",
            "14/14 [==============================] - 1s 82ms/step - loss: 1.3180e-05 - val_loss: 0.4691\n",
            "Epoch 17/300\n",
            "14/14 [==============================] - 1s 82ms/step - loss: 1.1249e-05 - val_loss: 0.4685\n",
            "Epoch 18/300\n",
            "14/14 [==============================] - 1s 82ms/step - loss: 1.0790e-05 - val_loss: 0.4681\n",
            "Epoch 19/300\n",
            "14/14 [==============================] - 1s 82ms/step - loss: 9.6682e-06 - val_loss: 0.4678\n",
            "Epoch 20/300\n",
            "14/14 [==============================] - 1s 83ms/step - loss: 8.8070e-06 - val_loss: 0.4673\n",
            "Epoch 21/300\n",
            "14/14 [==============================] - 1s 83ms/step - loss: 8.4588e-06 - val_loss: 0.4671\n",
            "Epoch 22/300\n",
            "14/14 [==============================] - 1s 84ms/step - loss: 7.8116e-06 - val_loss: 0.4665\n",
            "Epoch 23/300\n",
            "14/14 [==============================] - 1s 83ms/step - loss: 7.4578e-06 - val_loss: 0.4663\n",
            "Epoch 24/300\n",
            "14/14 [==============================] - 1s 84ms/step - loss: 6.9908e-06 - val_loss: 0.4657\n",
            "Epoch 25/300\n",
            "14/14 [==============================] - 1s 84ms/step - loss: 6.6913e-06 - val_loss: 0.4654\n",
            "Epoch 26/300\n",
            "14/14 [==============================] - 1s 83ms/step - loss: 6.3076e-06 - val_loss: 0.4650\n",
            "Epoch 27/300\n",
            "14/14 [==============================] - 1s 83ms/step - loss: 6.0088e-06 - val_loss: 0.4645\n",
            "Epoch 28/300\n",
            "14/14 [==============================] - 1s 82ms/step - loss: 5.8025e-06 - val_loss: 0.4643\n",
            "Epoch 29/300\n",
            "14/14 [==============================] - 1s 81ms/step - loss: 5.5073e-06 - val_loss: 0.4637\n",
            "Epoch 30/300\n",
            "14/14 [==============================] - 1s 82ms/step - loss: 5.3106e-06 - val_loss: 0.4634\n",
            "Epoch 31/300\n",
            "14/14 [==============================] - 1s 82ms/step - loss: 5.0464e-06 - val_loss: 0.4630\n",
            "Epoch 32/300\n",
            "14/14 [==============================] - 1s 82ms/step - loss: 4.9232e-06 - val_loss: 0.4627\n",
            "Epoch 33/300\n",
            "14/14 [==============================] - 1s 82ms/step - loss: 4.6982e-06 - val_loss: 0.4624\n",
            "Epoch 34/300\n",
            "14/14 [==============================] - 1s 82ms/step - loss: 4.5308e-06 - val_loss: 0.4620\n",
            "Epoch 35/300\n",
            "14/14 [==============================] - 1s 82ms/step - loss: 4.3561e-06 - val_loss: 0.4615\n",
            "Epoch 36/300\n",
            "14/14 [==============================] - 1s 82ms/step - loss: 4.2203e-06 - val_loss: 0.4612\n",
            "Epoch 37/300\n",
            "14/14 [==============================] - 1s 82ms/step - loss: 4.0905e-06 - val_loss: 0.4609\n",
            "Epoch 38/300\n",
            "14/14 [==============================] - 1s 83ms/step - loss: 4.0105e-06 - val_loss: 0.4606\n",
            "Epoch 39/300\n",
            "14/14 [==============================] - 1s 83ms/step - loss: 3.8525e-06 - val_loss: 0.4602\n",
            "Epoch 00039: early stopping\n",
            "\n",
            "f-beta score : 94.24%\n",
            "\n"
          ]
        },
        {
          "output_type": "display_data",
          "data": {
            "image/png": "[encoded data removed]",
            "text/plain": [
              "<Figure size 1080x360 with 3 Axes>"
            ]
          },
          "metadata": {
            "needs_background": "light"
          }
        }
      ]
    },
    {
      "cell_type": "markdown",
      "metadata": {
        "id": "tUeGP_Lhoyax"
      },
      "source": [
        "## model 2 : Baseline + set last VGGFace conv block as trainable"
      ]
    },
    {
      "cell_type": "code",
      "metadata": {
        "colab": {
          "base_uri": "https://localhost:8080/",
          "height": 1000
        },
        "id": "mRGY3z3NXsBh",
        "outputId": "a1d2c297-6da9-41d7-ca9e-e2c68c575882"
      },
      "source": [
        "# create face recognition model with VGGFace as an integrated feature extractor\n",
        "vggface_model = VGGFace(include_top=False, input_shape=(224, 224, 3), model='senet50')\n",
        "# set layers as untrainable\n",
        "for layer in vggface_model.layers[:-54]:\n",
        "    layer.trainable = False\n",
        "last_layer = vggface_model.get_layer(index=-1).output\n",
        "x = Flatten()(last_layer)\n",
        "output = Dense(4, activation='softmax')(x)\n",
        "face_recognizer = Model(inputs=vggface_model.input, outputs=output)\n",
        "face_recognizer.compile(optimizer='Adam', loss='sparse_categorical_crossentropy')\n",
        "\n",
        "# create early stopping object\n",
        "es = EarlyStopping(monitor='val_loss', mode='min', verbose=1, patience=30)\n",
        "\n",
        "# train the model\n",
        "history = face_recognizer.fit(X_train, y_train, \n",
        "                              batch_size=32, epochs=300, \n",
        "                              validation_split=0.2,\n",
        "                              callbacks=[es])\n",
        "\n",
        "# evaluation\n",
        "evaluate_model(history, face_recognizer)"
      ],
      "execution_count": 68,
      "outputs": [
        {
          "output_type": "stream",
          "name": "stdout",
          "text": [
            "Epoch 1/300\n",
            "14/14 [==============================] - 7s 181ms/step - loss: 3.3159 - val_loss: 492972.9688\n",
            "Epoch 2/300\n",
            "14/14 [==============================] - 1s 100ms/step - loss: 0.3335 - val_loss: 39413.5508\n",
            "Epoch 3/300\n",
            "14/14 [==============================] - 1s 100ms/step - loss: 0.1424 - val_loss: 5667.1929\n",
            "Epoch 4/300\n",
            "14/14 [==============================] - 1s 100ms/step - loss: 0.1129 - val_loss: 1027.3459\n",
            "Epoch 5/300\n",
            "14/14 [==============================] - 1s 99ms/step - loss: 0.1190 - val_loss: 283.3296\n",
            "Epoch 6/300\n",
            "14/14 [==============================] - 1s 101ms/step - loss: 0.0227 - val_loss: 86.6804\n",
            "Epoch 7/300\n",
            "14/14 [==============================] - 1s 100ms/step - loss: 0.0240 - val_loss: 28.6455\n",
            "Epoch 8/300\n",
            "14/14 [==============================] - 1s 100ms/step - loss: 0.0113 - val_loss: 11.2840\n",
            "Epoch 9/300\n",
            "14/14 [==============================] - 1s 99ms/step - loss: 0.0897 - val_loss: 24.4093\n",
            "Epoch 10/300\n",
            "14/14 [==============================] - 1s 100ms/step - loss: 0.0957 - val_loss: 25.0539\n",
            "Epoch 11/300\n",
            "14/14 [==============================] - 1s 99ms/step - loss: 0.0831 - val_loss: 2.1308\n",
            "Epoch 12/300\n",
            "14/14 [==============================] - 1s 99ms/step - loss: 0.0541 - val_loss: 2.3324\n",
            "Epoch 13/300\n",
            "14/14 [==============================] - 1s 101ms/step - loss: 0.0685 - val_loss: 0.6444\n",
            "Epoch 14/300\n",
            "14/14 [==============================] - 1s 100ms/step - loss: 0.0235 - val_loss: 1.3445\n",
            "Epoch 15/300\n",
            "14/14 [==============================] - 1s 99ms/step - loss: 0.0285 - val_loss: 2.0707\n",
            "Epoch 16/300\n",
            "14/14 [==============================] - 1s 100ms/step - loss: 0.0315 - val_loss: 1.5717\n",
            "Epoch 17/300\n",
            "14/14 [==============================] - 1s 100ms/step - loss: 0.0476 - val_loss: 1.6630\n",
            "Epoch 18/300\n",
            "14/14 [==============================] - 1s 100ms/step - loss: 0.0569 - val_loss: 1.2298\n",
            "Epoch 19/300\n",
            "14/14 [==============================] - 1s 100ms/step - loss: 0.0382 - val_loss: 0.5809\n",
            "Epoch 20/300\n",
            "14/14 [==============================] - 1s 100ms/step - loss: 0.0332 - val_loss: 2.5631\n",
            "Epoch 21/300\n",
            "14/14 [==============================] - 1s 101ms/step - loss: 0.0366 - val_loss: 0.8591\n",
            "Epoch 22/300\n",
            "14/14 [==============================] - 1s 100ms/step - loss: 0.0285 - val_loss: 2.1065\n",
            "Epoch 23/300\n",
            "14/14 [==============================] - 1s 99ms/step - loss: 0.0060 - val_loss: 4.2154\n",
            "Epoch 24/300\n",
            "14/14 [==============================] - 1s 100ms/step - loss: 0.0015 - val_loss: 3.1905\n",
            "Epoch 25/300\n",
            "14/14 [==============================] - 1s 100ms/step - loss: 0.0159 - val_loss: 1.8849\n",
            "Epoch 26/300\n",
            "14/14 [==============================] - 1s 101ms/step - loss: 0.0168 - val_loss: 1.0242\n",
            "Epoch 27/300\n",
            "14/14 [==============================] - 1s 101ms/step - loss: 0.0137 - val_loss: 1.0295\n",
            "Epoch 28/300\n",
            "14/14 [==============================] - 1s 101ms/step - loss: 0.0180 - val_loss: 1.1060\n",
            "Epoch 29/300\n",
            "14/14 [==============================] - 1s 107ms/step - loss: 0.0025 - val_loss: 0.9599\n",
            "Epoch 30/300\n",
            "14/14 [==============================] - 1s 100ms/step - loss: 0.0019 - val_loss: 0.6975\n",
            "Epoch 31/300\n",
            "14/14 [==============================] - 1s 100ms/step - loss: 0.0020 - val_loss: 0.4533\n",
            "Epoch 32/300\n",
            "14/14 [==============================] - 1s 98ms/step - loss: 0.0013 - val_loss: 0.3425\n",
            "Epoch 33/300\n",
            "14/14 [==============================] - 1s 100ms/step - loss: 0.0014 - val_loss: 0.2491\n",
            "Epoch 34/300\n",
            "14/14 [==============================] - 1s 100ms/step - loss: 5.2679e-04 - val_loss: 0.2085\n",
            "Epoch 35/300\n",
            "14/14 [==============================] - 1s 101ms/step - loss: 4.1912e-04 - val_loss: 0.1885\n",
            "Epoch 36/300\n",
            "14/14 [==============================] - 1s 101ms/step - loss: 7.1351e-04 - val_loss: 0.1738\n",
            "Epoch 37/300\n",
            "14/14 [==============================] - 1s 100ms/step - loss: 2.4929e-04 - val_loss: 0.1639\n",
            "Epoch 38/300\n",
            "14/14 [==============================] - 1s 100ms/step - loss: 7.5089e-04 - val_loss: 0.1555\n",
            "Epoch 39/300\n",
            "14/14 [==============================] - 1s 101ms/step - loss: 4.5377e-04 - val_loss: 0.1528\n",
            "Epoch 40/300\n",
            "14/14 [==============================] - 1s 100ms/step - loss: 1.4372e-04 - val_loss: 0.1490\n",
            "Epoch 41/300\n",
            "14/14 [==============================] - 1s 101ms/step - loss: 1.0201e-04 - val_loss: 0.1445\n",
            "Epoch 42/300\n",
            "14/14 [==============================] - 1s 100ms/step - loss: 7.1780e-04 - val_loss: 0.1494\n",
            "Epoch 43/300\n",
            "14/14 [==============================] - 1s 101ms/step - loss: 6.7602e-05 - val_loss: 0.1431\n",
            "Epoch 44/300\n",
            "14/14 [==============================] - 1s 100ms/step - loss: 0.0010 - val_loss: 0.1855\n",
            "Epoch 45/300\n",
            "14/14 [==============================] - 1s 106ms/step - loss: 0.0027 - val_loss: 0.1692\n",
            "Epoch 46/300\n",
            "14/14 [==============================] - 1s 106ms/step - loss: 1.7632e-04 - val_loss: 0.1445\n",
            "Epoch 47/300\n",
            "14/14 [==============================] - 1s 100ms/step - loss: 9.9892e-04 - val_loss: 0.1239\n",
            "Epoch 48/300\n",
            "14/14 [==============================] - 1s 100ms/step - loss: 0.0023 - val_loss: 0.1180\n",
            "Epoch 49/300\n",
            "14/14 [==============================] - 1s 101ms/step - loss: 0.0110 - val_loss: 0.1744\n",
            "Epoch 50/300\n",
            "14/14 [==============================] - 1s 99ms/step - loss: 0.0192 - val_loss: 0.4020\n",
            "Epoch 51/300\n",
            "14/14 [==============================] - 1s 100ms/step - loss: 0.0117 - val_loss: 0.2568\n",
            "Epoch 52/300\n",
            "14/14 [==============================] - 1s 100ms/step - loss: 0.0063 - val_loss: 0.2615\n",
            "Epoch 53/300\n",
            "14/14 [==============================] - 1s 101ms/step - loss: 0.0019 - val_loss: 0.2483\n",
            "Epoch 54/300\n",
            "14/14 [==============================] - 1s 100ms/step - loss: 0.0016 - val_loss: 0.2246\n",
            "Epoch 55/300\n",
            "14/14 [==============================] - 1s 99ms/step - loss: 3.8464e-04 - val_loss: 0.2203\n",
            "Epoch 56/300\n",
            "14/14 [==============================] - 1s 106ms/step - loss: 1.1134e-04 - val_loss: 0.2158\n",
            "Epoch 57/300\n",
            "14/14 [==============================] - 1s 101ms/step - loss: 2.5622e-04 - val_loss: 0.2144\n",
            "Epoch 58/300\n",
            "14/14 [==============================] - 1s 100ms/step - loss: 4.7807e-04 - val_loss: 0.2078\n",
            "Epoch 59/300\n",
            "14/14 [==============================] - 1s 101ms/step - loss: 4.3188e-05 - val_loss: 0.2030\n",
            "Epoch 60/300\n",
            "14/14 [==============================] - 1s 100ms/step - loss: 8.9556e-05 - val_loss: 0.2017\n",
            "Epoch 61/300\n",
            "14/14 [==============================] - 1s 99ms/step - loss: 2.9998e-04 - val_loss: 0.2057\n",
            "Epoch 62/300\n",
            "14/14 [==============================] - 1s 100ms/step - loss: 1.1922e-04 - val_loss: 0.2130\n",
            "Epoch 63/300\n",
            "14/14 [==============================] - 1s 99ms/step - loss: 1.7638e-04 - val_loss: 0.2148\n",
            "Epoch 64/300\n",
            "14/14 [==============================] - 1s 100ms/step - loss: 8.3647e-05 - val_loss: 0.2147\n",
            "Epoch 65/300\n",
            "14/14 [==============================] - 1s 101ms/step - loss: 4.8741e-05 - val_loss: 0.2143\n",
            "Epoch 66/300\n",
            "14/14 [==============================] - 1s 100ms/step - loss: 1.2740e-04 - val_loss: 0.2131\n",
            "Epoch 67/300\n",
            "14/14 [==============================] - 1s 101ms/step - loss: 3.6159e-05 - val_loss: 0.2091\n",
            "Epoch 68/300\n",
            "14/14 [==============================] - 1s 107ms/step - loss: 2.2412e-05 - val_loss: 0.2081\n",
            "Epoch 69/300\n",
            "14/14 [==============================] - 1s 99ms/step - loss: 1.9846e-05 - val_loss: 0.2074\n",
            "Epoch 70/300\n",
            "14/14 [==============================] - 1s 100ms/step - loss: 1.1488e-04 - val_loss: 0.2066\n",
            "Epoch 71/300\n",
            "14/14 [==============================] - 1s 100ms/step - loss: 5.6804e-05 - val_loss: 0.2061\n",
            "Epoch 72/300\n",
            "14/14 [==============================] - 1s 99ms/step - loss: 1.4665e-04 - val_loss: 0.2053\n",
            "Epoch 73/300\n",
            "14/14 [==============================] - 1s 102ms/step - loss: 7.9625e-05 - val_loss: 0.2044\n",
            "Epoch 74/300\n",
            "14/14 [==============================] - 1s 99ms/step - loss: 2.8606e-05 - val_loss: 0.2054\n",
            "Epoch 75/300\n",
            "14/14 [==============================] - 1s 100ms/step - loss: 4.5764e-05 - val_loss: 0.2058\n",
            "Epoch 76/300\n",
            "14/14 [==============================] - 1s 100ms/step - loss: 5.3788e-05 - val_loss: 0.2050\n",
            "Epoch 77/300\n",
            "14/14 [==============================] - 1s 100ms/step - loss: 5.3370e-05 - val_loss: 0.2049\n",
            "Epoch 78/300\n",
            "14/14 [==============================] - 1s 99ms/step - loss: 4.0139e-05 - val_loss: 0.2065\n",
            "Epoch 00078: early stopping\n",
            "\n",
            "f-beta score : 95.68%\n",
            "\n"
          ]
        },
        {
          "output_type": "display_data",
          "data": {
            "image/png": "[encoded data removed]",
            "text/plain": [
              "<Figure size 1080x360 with 3 Axes>"
            ]
          },
          "metadata": {
            "needs_background": "light"
          }
        }
      ]
    },
    {
      "cell_type": "markdown",
      "metadata": {
        "id": "I1Tq83WapHVB"
      },
      "source": [
        "## model 3 : Baseline + set last conv block as trainable + one more dense layer"
      ]
    },
    {
      "cell_type": "code",
      "metadata": {
        "colab": {
          "base_uri": "https://localhost:8080/",
          "height": 1000
        },
        "id": "tQ2ChdwypN8N",
        "outputId": "19599286-0161-4bdd-e662-34de17cdc1bd"
      },
      "source": [
        "# create face recognition model with VGGFace as an integrated feature extractor\n",
        "vggface_model = VGGFace(include_top=False, input_shape=(224, 224, 3), model='senet50')\n",
        "# set layers as untrainable\n",
        "for layer in vggface_model.layers[:-54]:\n",
        "    layer.trainable = False\n",
        "last_layer = vggface_model.get_layer(index=-1).output\n",
        "x = Flatten()(last_layer)\n",
        "x = Dense(512, activation='relu')(x)\n",
        "output = Dense(4, activation='softmax')(x)\n",
        "face_recognizer = Model(inputs=vggface_model.input, outputs=output)\n",
        "face_recognizer.compile(optimizer='Adam', loss='sparse_categorical_crossentropy')\n",
        "\n",
        "# create early stopping object\n",
        "es = EarlyStopping(monitor='val_loss', mode='min', verbose=1, patience=30)\n",
        "\n",
        "# train the model\n",
        "history = face_recognizer.fit(X_train, y_train, \n",
        "                              batch_size=32, epochs=300, \n",
        "                              validation_split=0.2,\n",
        "                              callbacks=[es])\n",
        "\n",
        "# evaluation\n",
        "evaluate_model(history, face_recognizer)"
      ],
      "execution_count": 69,
      "outputs": [
        {
          "output_type": "stream",
          "name": "stdout",
          "text": [
            "Epoch 1/300\n",
            "14/14 [==============================] - 7s 185ms/step - loss: 2.9953 - val_loss: 586949.3125\n",
            "Epoch 2/300\n",
            "14/14 [==============================] - 1s 106ms/step - loss: 0.3502 - val_loss: 95957.0469\n",
            "Epoch 3/300\n",
            "14/14 [==============================] - 1s 102ms/step - loss: 0.2051 - val_loss: 12683.9688\n",
            "Epoch 4/300\n",
            "14/14 [==============================] - 1s 101ms/step - loss: 0.0925 - val_loss: 1475.3740\n",
            "Epoch 5/300\n",
            "14/14 [==============================] - 1s 100ms/step - loss: 0.0872 - val_loss: 246.9718\n",
            "Epoch 6/300\n",
            "14/14 [==============================] - 1s 101ms/step - loss: 0.0560 - val_loss: 78.6306\n",
            "Epoch 7/300\n",
            "14/14 [==============================] - 1s 100ms/step - loss: 0.0302 - val_loss: 23.7072\n",
            "Epoch 8/300\n",
            "14/14 [==============================] - 1s 100ms/step - loss: 0.0166 - val_loss: 9.8553\n",
            "Epoch 9/300\n",
            "14/14 [==============================] - 1s 100ms/step - loss: 0.0193 - val_loss: 3.8106\n",
            "Epoch 10/300\n",
            "14/14 [==============================] - 1s 100ms/step - loss: 0.0479 - val_loss: 2.4709\n",
            "Epoch 11/300\n",
            "14/14 [==============================] - 1s 102ms/step - loss: 0.1047 - val_loss: 2.3518\n",
            "Epoch 12/300\n",
            "14/14 [==============================] - 1s 101ms/step - loss: 0.5312 - val_loss: 1.8026\n",
            "Epoch 13/300\n",
            "14/14 [==============================] - 1s 100ms/step - loss: 0.2148 - val_loss: 8.4352\n",
            "Epoch 14/300\n",
            "14/14 [==============================] - 1s 99ms/step - loss: 0.0826 - val_loss: 3.1635\n",
            "Epoch 15/300\n",
            "14/14 [==============================] - 1s 99ms/step - loss: 0.0371 - val_loss: 1.4623\n",
            "Epoch 16/300\n",
            "14/14 [==============================] - 1s 99ms/step - loss: 0.0304 - val_loss: 1.2195\n",
            "Epoch 17/300\n",
            "14/14 [==============================] - 1s 99ms/step - loss: 0.0252 - val_loss: 0.2502\n",
            "Epoch 18/300\n",
            "14/14 [==============================] - 1s 100ms/step - loss: 0.0822 - val_loss: 0.2189\n",
            "Epoch 19/300\n",
            "14/14 [==============================] - 1s 100ms/step - loss: 0.0447 - val_loss: 0.1380\n",
            "Epoch 20/300\n",
            "14/14 [==============================] - 1s 99ms/step - loss: 0.0085 - val_loss: 0.3395\n",
            "Epoch 21/300\n",
            "14/14 [==============================] - 1s 99ms/step - loss: 0.0046 - val_loss: 0.2687\n",
            "Epoch 22/300\n",
            "14/14 [==============================] - 1s 100ms/step - loss: 0.0020 - val_loss: 0.1839\n",
            "Epoch 23/300\n",
            "14/14 [==============================] - 1s 99ms/step - loss: 0.0028 - val_loss: 0.1647\n",
            "Epoch 24/300\n",
            "14/14 [==============================] - 1s 100ms/step - loss: 0.0134 - val_loss: 0.1640\n",
            "Epoch 25/300\n",
            "14/14 [==============================] - 1s 99ms/step - loss: 0.0027 - val_loss: 0.1510\n",
            "Epoch 26/300\n",
            "14/14 [==============================] - 1s 100ms/step - loss: 0.0090 - val_loss: 0.1328\n",
            "Epoch 27/300\n",
            "14/14 [==============================] - 1s 99ms/step - loss: 0.0022 - val_loss: 0.1414\n",
            "Epoch 28/300\n",
            "14/14 [==============================] - 1s 106ms/step - loss: 0.0157 - val_loss: 0.1310\n",
            "Epoch 29/300\n",
            "14/14 [==============================] - 1s 100ms/step - loss: 0.0043 - val_loss: 0.1194\n",
            "Epoch 30/300\n",
            "14/14 [==============================] - 1s 100ms/step - loss: 0.0064 - val_loss: 0.1721\n",
            "Epoch 31/300\n",
            "14/14 [==============================] - 1s 101ms/step - loss: 0.0017 - val_loss: 0.1561\n",
            "Epoch 32/300\n",
            "14/14 [==============================] - 1s 99ms/step - loss: 8.8458e-04 - val_loss: 0.1579\n",
            "Epoch 33/300\n",
            "14/14 [==============================] - 1s 101ms/step - loss: 0.0020 - val_loss: 0.1316\n",
            "Epoch 34/300\n",
            "14/14 [==============================] - 1s 107ms/step - loss: 6.3046e-04 - val_loss: 0.1231\n",
            "Epoch 35/300\n",
            "14/14 [==============================] - 1s 101ms/step - loss: 6.5241e-04 - val_loss: 0.1163\n",
            "Epoch 36/300\n",
            "14/14 [==============================] - 1s 100ms/step - loss: 0.0011 - val_loss: 0.1094\n",
            "Epoch 37/300\n",
            "14/14 [==============================] - 1s 102ms/step - loss: 1.9118e-04 - val_loss: 0.1092\n",
            "Epoch 38/300\n",
            "14/14 [==============================] - 1s 100ms/step - loss: 1.4575e-04 - val_loss: 0.1081\n",
            "Epoch 39/300\n",
            "14/14 [==============================] - 1s 99ms/step - loss: 6.7302e-05 - val_loss: 0.1058\n",
            "Epoch 40/300\n",
            "14/14 [==============================] - 1s 101ms/step - loss: 4.9502e-05 - val_loss: 0.1025\n",
            "Epoch 41/300\n",
            "14/14 [==============================] - 1s 101ms/step - loss: 1.5902e-04 - val_loss: 0.1009\n",
            "Epoch 42/300\n",
            "14/14 [==============================] - 1s 106ms/step - loss: 1.6525e-04 - val_loss: 0.0984\n",
            "Epoch 43/300\n",
            "14/14 [==============================] - 1s 100ms/step - loss: 7.1704e-05 - val_loss: 0.0967\n",
            "Epoch 44/300\n",
            "14/14 [==============================] - 1s 107ms/step - loss: 3.3663e-04 - val_loss: 0.0947\n",
            "Epoch 45/300\n",
            "14/14 [==============================] - 1s 101ms/step - loss: 8.2428e-05 - val_loss: 0.0917\n",
            "Epoch 46/300\n",
            "14/14 [==============================] - 1s 99ms/step - loss: 9.2143e-05 - val_loss: 0.0919\n",
            "Epoch 47/300\n",
            "14/14 [==============================] - 1s 104ms/step - loss: 1.5468e-04 - val_loss: 0.0915\n",
            "Epoch 48/300\n",
            "14/14 [==============================] - 1s 101ms/step - loss: 1.4563e-04 - val_loss: 0.0921\n",
            "Epoch 49/300\n",
            "14/14 [==============================] - 1s 101ms/step - loss: 4.8659e-05 - val_loss: 0.0933\n",
            "Epoch 50/300\n",
            "14/14 [==============================] - 1s 101ms/step - loss: 1.6801e-04 - val_loss: 0.0939\n",
            "Epoch 51/300\n",
            "14/14 [==============================] - 1s 101ms/step - loss: 4.3429e-05 - val_loss: 0.0947\n",
            "Epoch 52/300\n",
            "14/14 [==============================] - 1s 99ms/step - loss: 2.8356e-04 - val_loss: 0.0955\n",
            "Epoch 53/300\n",
            "14/14 [==============================] - 1s 101ms/step - loss: 1.2146e-04 - val_loss: 0.0945\n",
            "Epoch 54/300\n",
            "14/14 [==============================] - 1s 100ms/step - loss: 3.8363e-05 - val_loss: 0.0935\n",
            "Epoch 55/300\n",
            "14/14 [==============================] - 1s 100ms/step - loss: 6.9789e-05 - val_loss: 0.0922\n",
            "Epoch 56/300\n",
            "14/14 [==============================] - 1s 100ms/step - loss: 2.7455e-05 - val_loss: 0.0916\n",
            "Epoch 57/300\n",
            "14/14 [==============================] - 1s 101ms/step - loss: 3.4466e-05 - val_loss: 0.0908\n",
            "Epoch 58/300\n",
            "14/14 [==============================] - 1s 99ms/step - loss: 5.7946e-05 - val_loss: 0.0896\n",
            "Epoch 59/300\n",
            "14/14 [==============================] - 1s 101ms/step - loss: 1.6606e-04 - val_loss: 0.0678\n",
            "Epoch 60/300\n",
            "14/14 [==============================] - 1s 101ms/step - loss: 3.9080e-05 - val_loss: 0.0662\n",
            "Epoch 61/300\n",
            "14/14 [==============================] - 1s 108ms/step - loss: 3.9628e-05 - val_loss: 0.0686\n",
            "Epoch 62/300\n",
            "14/14 [==============================] - 1s 101ms/step - loss: 4.8891e-05 - val_loss: 0.0718\n",
            "Epoch 63/300\n",
            "14/14 [==============================] - 1s 102ms/step - loss: 1.3132e-04 - val_loss: 0.0759\n",
            "Epoch 64/300\n",
            "14/14 [==============================] - 1s 101ms/step - loss: 4.8980e-05 - val_loss: 0.0801\n",
            "Epoch 65/300\n",
            "14/14 [==============================] - 1s 100ms/step - loss: 5.9045e-05 - val_loss: 0.0826\n",
            "Epoch 66/300\n",
            "14/14 [==============================] - 1s 100ms/step - loss: 5.2463e-05 - val_loss: 0.0844\n",
            "Epoch 67/300\n",
            "14/14 [==============================] - 1s 100ms/step - loss: 2.8195e-05 - val_loss: 0.0857\n",
            "Epoch 68/300\n",
            "14/14 [==============================] - 1s 107ms/step - loss: 2.7574e-05 - val_loss: 0.0868\n",
            "Epoch 69/300\n",
            "14/14 [==============================] - 1s 101ms/step - loss: 4.0332e-05 - val_loss: 0.0876\n",
            "Epoch 70/300\n",
            "14/14 [==============================] - 1s 102ms/step - loss: 1.9431e-04 - val_loss: 0.0877\n",
            "Epoch 71/300\n",
            "14/14 [==============================] - 1s 101ms/step - loss: 3.9549e-05 - val_loss: 0.0875\n",
            "Epoch 72/300\n",
            "14/14 [==============================] - 1s 107ms/step - loss: 1.9816e-05 - val_loss: 0.0887\n",
            "Epoch 73/300\n",
            "14/14 [==============================] - 1s 101ms/step - loss: 1.9481e-04 - val_loss: 0.0873\n",
            "Epoch 74/300\n",
            "14/14 [==============================] - 1s 101ms/step - loss: 6.1215e-05 - val_loss: 0.0837\n",
            "Epoch 75/300\n",
            "14/14 [==============================] - 1s 100ms/step - loss: 2.1726e-05 - val_loss: 0.0837\n",
            "Epoch 76/300\n",
            "14/14 [==============================] - 1s 101ms/step - loss: 1.7004e-05 - val_loss: 0.0848\n",
            "Epoch 77/300\n",
            "14/14 [==============================] - 1s 101ms/step - loss: 4.7974e-05 - val_loss: 0.0888\n",
            "Epoch 78/300\n",
            "14/14 [==============================] - 1s 101ms/step - loss: 2.6115e-05 - val_loss: 0.0893\n",
            "Epoch 79/300\n",
            "14/14 [==============================] - 1s 101ms/step - loss: 2.4017e-04 - val_loss: 0.0969\n",
            "Epoch 80/300\n",
            "14/14 [==============================] - 1s 99ms/step - loss: 6.1953e-05 - val_loss: 0.0982\n",
            "Epoch 81/300\n",
            "14/14 [==============================] - 1s 100ms/step - loss: 1.8294e-05 - val_loss: 0.0985\n",
            "Epoch 82/300\n",
            "14/14 [==============================] - 1s 100ms/step - loss: 2.1504e-05 - val_loss: 0.0985\n",
            "Epoch 83/300\n",
            "14/14 [==============================] - 1s 100ms/step - loss: 4.8675e-05 - val_loss: 0.0983\n",
            "Epoch 84/300\n",
            "14/14 [==============================] - 1s 101ms/step - loss: 0.0016 - val_loss: 0.1821\n",
            "Epoch 85/300\n",
            "14/14 [==============================] - 1s 100ms/step - loss: 0.0019 - val_loss: 3.1289\n",
            "Epoch 86/300\n",
            "14/14 [==============================] - 1s 101ms/step - loss: 0.0853 - val_loss: 0.1386\n",
            "Epoch 87/300\n",
            "14/14 [==============================] - 1s 99ms/step - loss: 0.1769 - val_loss: 1.1909\n",
            "Epoch 88/300\n",
            "14/14 [==============================] - 1s 101ms/step - loss: 0.2089 - val_loss: 5.4816\n",
            "Epoch 89/300\n",
            "14/14 [==============================] - 1s 100ms/step - loss: 0.1069 - val_loss: 10.0230\n",
            "Epoch 90/300\n",
            "14/14 [==============================] - 1s 101ms/step - loss: 0.0786 - val_loss: 10.3704\n",
            "Epoch 00090: early stopping\n",
            "\n",
            "f-beta score : 70.5%\n",
            "\n"
          ]
        },
        {
          "output_type": "display_data",
          "data": {
            "image/png": "[encoded data removed]",
            "text/plain": [
              "<Figure size 1080x360 with 3 Axes>"
            ]
          },
          "metadata": {
            "needs_background": "light"
          }
        }
      ]
    },
    {
      "cell_type": "markdown",
      "metadata": {
        "id": "GYIHO9-8qaJ4"
      },
      "source": [
        "# Finalize model"
      ]
    },
    {
      "cell_type": "code",
      "metadata": {
        "colab": {
          "base_uri": "https://localhost:8080/",
          "height": 1000
        },
        "id": "n73s7N2qqhGg",
        "outputId": "b6936fa2-0586-4a47-c9a0-717721900224"
      },
      "source": [
        "# create face recognition model with VGGFace as an integrated feature extractor\n",
        "vggface_model = VGGFace(include_top=False, input_shape=(224, 224, 3), model='senet50')\n",
        "# set layers as untrainable\n",
        "for layer in vggface_model.layers[:-54]:\n",
        "    layer.trainable = False\n",
        "last_layer = vggface_model.get_layer(index=-1).output\n",
        "x = Flatten()(last_layer)\n",
        "output = Dense(4, activation='softmax')(x)\n",
        "face_recognizer = Model(inputs=vggface_model.input, outputs=output)\n",
        "face_recognizer.compile(optimizer='Adam', loss='sparse_categorical_crossentropy')\n",
        "\n",
        "# create early stopping object\n",
        "es = EarlyStopping(monitor='val_loss', mode='min', verbose=1, patience=30)\n",
        "\n",
        "# create model checkpoint to save the model\n",
        "mc = ModelCheckpoint('data/saved_clf/blackpink_clf.h5', monitor='val_loss', mode='min', verbose=1, save_best_only=True)\n",
        "\n",
        "# train the model\n",
        "history = face_recognizer.fit(X_train, y_train, \n",
        "                              batch_size=32, epochs=300, \n",
        "                              validation_split=0.2,\n",
        "                              callbacks=[es])\n",
        "\n",
        "# evaluation\n",
        "evaluate_model(history, face_recognizer)"
      ],
      "execution_count": 70,
      "outputs": [
        {
          "output_type": "stream",
          "name": "stdout",
          "text": [
            "Epoch 1/300\n",
            "14/14 [==============================] - 7s 183ms/step - loss: 3.2459 - val_loss: 291759.1562\n",
            "Epoch 2/300\n",
            "14/14 [==============================] - 1s 99ms/step - loss: 0.2690 - val_loss: 5860.9829\n",
            "Epoch 3/300\n",
            "14/14 [==============================] - 1s 99ms/step - loss: 0.1149 - val_loss: 681.0660\n",
            "Epoch 4/300\n",
            "14/14 [==============================] - 1s 99ms/step - loss: 0.0878 - val_loss: 220.8833\n",
            "Epoch 5/300\n",
            "14/14 [==============================] - 1s 99ms/step - loss: 0.0384 - val_loss: 93.7943\n",
            "Epoch 6/300\n",
            "14/14 [==============================] - 1s 100ms/step - loss: 0.0388 - val_loss: 37.2368\n",
            "Epoch 7/300\n",
            "14/14 [==============================] - 1s 99ms/step - loss: 0.0443 - val_loss: 25.6348\n",
            "Epoch 8/300\n",
            "14/14 [==============================] - 1s 99ms/step - loss: 0.0463 - val_loss: 9.9964\n",
            "Epoch 9/300\n",
            "14/14 [==============================] - 1s 99ms/step - loss: 0.0163 - val_loss: 4.2624\n",
            "Epoch 10/300\n",
            "14/14 [==============================] - 1s 99ms/step - loss: 0.0295 - val_loss: 1.6464\n",
            "Epoch 11/300\n",
            "14/14 [==============================] - 1s 100ms/step - loss: 0.0068 - val_loss: 1.6075\n",
            "Epoch 12/300\n",
            "14/14 [==============================] - 1s 99ms/step - loss: 0.0141 - val_loss: 0.7625\n",
            "Epoch 13/300\n",
            "14/14 [==============================] - 1s 99ms/step - loss: 0.0083 - val_loss: 1.1970\n",
            "Epoch 14/300\n",
            "14/14 [==============================] - 1s 99ms/step - loss: 0.0251 - val_loss: 0.5153\n",
            "Epoch 15/300\n",
            "14/14 [==============================] - 1s 105ms/step - loss: 0.0148 - val_loss: 1.6199\n",
            "Epoch 16/300\n",
            "14/14 [==============================] - 1s 100ms/step - loss: 0.0112 - val_loss: 0.2846\n",
            "Epoch 17/300\n",
            "14/14 [==============================] - 1s 100ms/step - loss: 0.0121 - val_loss: 0.3014\n",
            "Epoch 18/300\n",
            "14/14 [==============================] - 1s 98ms/step - loss: 0.0062 - val_loss: 0.1083\n",
            "Epoch 19/300\n",
            "14/14 [==============================] - 1s 106ms/step - loss: 0.0035 - val_loss: 0.1212\n",
            "Epoch 20/300\n",
            "14/14 [==============================] - 1s 99ms/step - loss: 0.0029 - val_loss: 0.1080\n",
            "Epoch 21/300\n",
            "14/14 [==============================] - 1s 100ms/step - loss: 0.0064 - val_loss: 0.0984\n",
            "Epoch 22/300\n",
            "14/14 [==============================] - 1s 101ms/step - loss: 0.0028 - val_loss: 0.0805\n",
            "Epoch 23/300\n",
            "14/14 [==============================] - 1s 99ms/step - loss: 0.0140 - val_loss: 0.1075\n",
            "Epoch 24/300\n",
            "14/14 [==============================] - 1s 106ms/step - loss: 0.0011 - val_loss: 0.1280\n",
            "Epoch 25/300\n",
            "14/14 [==============================] - 1s 99ms/step - loss: 0.0024 - val_loss: 0.1390\n",
            "Epoch 26/300\n",
            "14/14 [==============================] - 1s 99ms/step - loss: 3.0782e-04 - val_loss: 0.1402\n",
            "Epoch 27/300\n",
            "14/14 [==============================] - 1s 106ms/step - loss: 7.7809e-04 - val_loss: 0.1395\n",
            "Epoch 28/300\n",
            "14/14 [==============================] - 1s 99ms/step - loss: 5.6707e-04 - val_loss: 0.1419\n",
            "Epoch 29/300\n",
            "14/14 [==============================] - 1s 98ms/step - loss: 8.8284e-04 - val_loss: 0.1224\n",
            "Epoch 30/300\n",
            "14/14 [==============================] - 1s 98ms/step - loss: 2.9997e-04 - val_loss: 0.0993\n",
            "Epoch 31/300\n",
            "14/14 [==============================] - 1s 99ms/step - loss: 9.8407e-04 - val_loss: 0.0801\n",
            "Epoch 32/300\n",
            "14/14 [==============================] - 1s 99ms/step - loss: 1.9817e-04 - val_loss: 0.0760\n",
            "Epoch 33/300\n",
            "14/14 [==============================] - 1s 100ms/step - loss: 5.9957e-04 - val_loss: 0.0761\n",
            "Epoch 34/300\n",
            "14/14 [==============================] - 1s 99ms/step - loss: 4.3415e-04 - val_loss: 0.0696\n",
            "Epoch 35/300\n",
            "14/14 [==============================] - 1s 99ms/step - loss: 5.0727e-04 - val_loss: 0.0840\n",
            "Epoch 36/300\n",
            "14/14 [==============================] - 1s 99ms/step - loss: 0.0021 - val_loss: 0.0572\n",
            "Epoch 37/300\n",
            "14/14 [==============================] - 1s 101ms/step - loss: 0.0506 - val_loss: 0.1390\n",
            "Epoch 38/300\n",
            "14/14 [==============================] - 1s 100ms/step - loss: 0.0052 - val_loss: 0.0900\n",
            "Epoch 39/300\n",
            "14/14 [==============================] - 1s 99ms/step - loss: 0.0055 - val_loss: 0.0894\n",
            "Epoch 40/300\n",
            "14/14 [==============================] - 1s 99ms/step - loss: 0.0054 - val_loss: 0.6142\n",
            "Epoch 41/300\n",
            "14/14 [==============================] - 1s 100ms/step - loss: 0.0559 - val_loss: 1.5078\n",
            "Epoch 42/300\n",
            "14/14 [==============================] - 1s 99ms/step - loss: 0.0515 - val_loss: 1.5838\n",
            "Epoch 43/300\n",
            "14/14 [==============================] - 1s 99ms/step - loss: 0.0751 - val_loss: 2.5621\n",
            "Epoch 44/300\n",
            "14/14 [==============================] - 1s 98ms/step - loss: 0.0461 - val_loss: 1.1609\n",
            "Epoch 45/300\n",
            "14/14 [==============================] - 1s 99ms/step - loss: 0.0443 - val_loss: 0.3783\n",
            "Epoch 46/300\n",
            "14/14 [==============================] - 1s 100ms/step - loss: 0.0382 - val_loss: 0.4505\n",
            "Epoch 47/300\n",
            "14/14 [==============================] - 1s 99ms/step - loss: 0.0072 - val_loss: 0.7066\n",
            "Epoch 48/300\n",
            "14/14 [==============================] - 1s 98ms/step - loss: 0.0056 - val_loss: 0.5109\n",
            "Epoch 49/300\n",
            "14/14 [==============================] - 1s 99ms/step - loss: 0.0018 - val_loss: 0.4424\n",
            "Epoch 50/300\n",
            "14/14 [==============================] - 1s 100ms/step - loss: 6.4203e-04 - val_loss: 0.3901\n",
            "Epoch 51/300\n",
            "14/14 [==============================] - 1s 98ms/step - loss: 7.9474e-04 - val_loss: 0.3375\n",
            "Epoch 52/300\n",
            "14/14 [==============================] - 1s 100ms/step - loss: 0.0011 - val_loss: 0.2814\n",
            "Epoch 53/300\n",
            "14/14 [==============================] - 1s 101ms/step - loss: 3.3703e-04 - val_loss: 0.2499\n",
            "Epoch 54/300\n",
            "14/14 [==============================] - 1s 99ms/step - loss: 5.0221e-04 - val_loss: 0.2263\n",
            "Epoch 55/300\n",
            "14/14 [==============================] - 1s 100ms/step - loss: 8.7347e-04 - val_loss: 0.2128\n",
            "Epoch 56/300\n",
            "14/14 [==============================] - 1s 100ms/step - loss: 1.8389e-04 - val_loss: 0.2105\n",
            "Epoch 57/300\n",
            "14/14 [==============================] - 1s 99ms/step - loss: 6.8906e-04 - val_loss: 0.1868\n",
            "Epoch 58/300\n",
            "14/14 [==============================] - 1s 106ms/step - loss: 0.0057 - val_loss: 0.2180\n",
            "Epoch 59/300\n",
            "14/14 [==============================] - 1s 100ms/step - loss: 0.0037 - val_loss: 0.2469\n",
            "Epoch 60/300\n",
            "14/14 [==============================] - 1s 100ms/step - loss: 5.6120e-04 - val_loss: 0.2315\n",
            "Epoch 61/300\n",
            "14/14 [==============================] - 1s 100ms/step - loss: 0.0012 - val_loss: 0.2181\n",
            "Epoch 62/300\n",
            "14/14 [==============================] - 1s 101ms/step - loss: 0.0032 - val_loss: 0.1903\n",
            "Epoch 63/300\n",
            "14/14 [==============================] - 1s 106ms/step - loss: 0.0013 - val_loss: 0.1885\n",
            "Epoch 64/300\n",
            "14/14 [==============================] - 1s 100ms/step - loss: 3.6510e-04 - val_loss: 0.1788\n",
            "Epoch 65/300\n",
            "14/14 [==============================] - 1s 99ms/step - loss: 3.0813e-04 - val_loss: 0.1754\n",
            "Epoch 66/300\n",
            "14/14 [==============================] - 1s 98ms/step - loss: 8.1225e-04 - val_loss: 0.1762\n",
            "Epoch 00066: early stopping\n",
            "\n",
            "f-beta score : 97.12%\n",
            "\n"
          ]
        },
        {
          "output_type": "display_data",
          "data": {
            "image/png": "[encoded data removed]",
            "text/plain": [
              "<Figure size 1080x360 with 3 Axes>"
            ]
          },
          "metadata": {
            "needs_background": "light"
          }
        }
      ]
    },
    {
      "cell_type": "markdown",
      "metadata": {
        "id": "OeWQJ19pqy0N"
      },
      "source": [
        "# Save the final model to local machine"
      ]
    },
    {
      "cell_type": "code",
      "metadata": {
        "colab": {
          "base_uri": "https://localhost:8080/",
          "height": 34
        },
        "id": "De2115oygJbN",
        "outputId": "ae5fe03a-5803-4b22-cb2e-0ac7429d2dbc"
      },
      "source": [
        "from google.colab import files\n",
        "files.download('/content/face_recognition_with_VGGFace/data/saved_clf/blackpink_clf.h5')"
      ],
      "execution_count": 71,
      "outputs": [
        {
          "output_type": "display_data",
          "data": {
            "application/javascript": [
              "\n",
              "    async function download(id, filename, size) {\n",
              "      if (!google.colab.kernel.accessAllowed) {\n",
              "        return;\n",
              "      }\n",
              "      const div = document.createElement('div');\n",
              "      const label = document.createElement('label');\n",
              "      label.textContent = `Downloading \"${filename}\": `;\n",
              "      div.appendChild(label);\n",
              "      const progress = document.createElement('progress');\n",
              "      progress.max = size;\n",
              "      div.appendChild(progress);\n",
              "      document.body.appendChild(div);\n",
              "\n",
              "      const buffers = [];\n",
              "      let downloaded = 0;\n",
              "\n",
              "      const channel = await google.colab.kernel.comms.open(id);\n",
              "      // Send a message to notify the kernel that we're ready.\n",
              "      channel.send({})\n",
              "\n",
              "      for await (const message of channel.messages) {\n",
              "        // Send a message to notify the kernel that we're ready.\n",
              "        channel.send({})\n",
              "        if (message.buffers) {\n",
              "          for (const buffer of message.buffers) {\n",
              "            buffers.push(buffer);\n",
              "            downloaded += buffer.byteLength;\n",
              "            progress.value = downloaded;\n",
              "          }\n",
              "        }\n",
              "      }\n",
              "      const blob = new Blob(buffers, {type: 'application/binary'});\n",
              "      const a = document.createElement('a');\n",
              "      a.href = window.URL.createObjectURL(blob);\n",
              "      a.download = filename;\n",
              "      div.appendChild(a);\n",
              "      a.click();\n",
              "      div.remove();\n",
              "    }\n",
              "  "
            ],
            "text/plain": [
              "<IPython.core.display.Javascript object>"
            ]
          },
          "metadata": {}
        },
        {
          "output_type": "display_data",
          "data": {
            "application/javascript": [
              "download(\"download_db63fc5d-6b6f-43bf-aadc-47365aa261e2\", \"blackpink_clf.h5\", 237696960)"
            ],
            "text/plain": [
              "<IPython.core.display.Javascript object>"
            ]
          },
          "metadata": {}
        }
      ]
    }
  ]
}